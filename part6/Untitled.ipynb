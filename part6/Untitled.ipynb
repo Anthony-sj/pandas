{
 "cells": [
  {
   "cell_type": "code",
   "execution_count": 2,
   "id": "01fc4321",
   "metadata": {},
   "outputs": [],
   "source": [
    "import numpy as np"
   ]
  },
  {
   "cell_type": "code",
   "execution_count": 3,
   "id": "2ba7248f",
   "metadata": {},
   "outputs": [],
   "source": [
    "arr2d_1 = np.array([[5,6,7,8],\n",
    "              [4,3,2,1],\n",
    "              [13,16,15,14],\n",
    "              [10,12,9,11]])"
   ]
  },
  {
   "cell_type": "code",
   "execution_count": 4,
   "id": "d467697f",
   "metadata": {},
   "outputs": [
    {
     "data": {
      "text/plain": [
       "array([[ 5,  6,  7,  8],\n",
       "       [ 4,  3,  2,  1],\n",
       "       [13, 16, 15, 14],\n",
       "       [10, 12,  9, 11]])"
      ]
     },
     "execution_count": 4,
     "metadata": {},
     "output_type": "execute_result"
    }
   ],
   "source": [
    "arr2d_1"
   ]
  },
  {
   "cell_type": "code",
   "execution_count": 5,
   "id": "232f7492",
   "metadata": {},
   "outputs": [
    {
     "data": {
      "text/plain": [
       "array([[0, 1, 2, 3],\n",
       "       [3, 2, 1, 0],\n",
       "       [0, 3, 2, 1],\n",
       "       [2, 0, 3, 1]], dtype=int64)"
      ]
     },
     "execution_count": 5,
     "metadata": {},
     "output_type": "execute_result"
    }
   ],
   "source": [
    "np.argsort(arr2d_1,axis=1)"
   ]
  },
  {
   "cell_type": "code",
   "execution_count": 8,
   "id": "be0171f9",
   "metadata": {},
   "outputs": [],
   "source": [
    "arr2d_1 = np.array([[0,1,2,3],\n",
    "              [3,2,1,0],\n",
    "              [0,3,2,1],\n",
    "              [2,3,0,1]])"
   ]
  },
  {
   "cell_type": "code",
   "execution_count": 9,
   "id": "77e2b880",
   "metadata": {},
   "outputs": [
    {
     "data": {
      "text/plain": [
       "array([[0, 1, 2, 3],\n",
       "       [3, 2, 1, 0],\n",
       "       [0, 3, 2, 1],\n",
       "       [2, 3, 0, 1]], dtype=int64)"
      ]
     },
     "execution_count": 9,
     "metadata": {},
     "output_type": "execute_result"
    }
   ],
   "source": [
    "np.argsort(arr2d_1,axis=1)"
   ]
  },
  {
   "cell_type": "code",
   "execution_count": null,
   "id": "2bf31fbe",
   "metadata": {},
   "outputs": [],
   "source": []
  }
 ],
 "metadata": {
  "kernelspec": {
   "display_name": "Python 3 (ipykernel)",
   "language": "python",
   "name": "python3"
  },
  "language_info": {
   "codemirror_mode": {
    "name": "ipython",
    "version": 3
   },
   "file_extension": ".py",
   "mimetype": "text/x-python",
   "name": "python",
   "nbconvert_exporter": "python",
   "pygments_lexer": "ipython3",
   "version": "3.9.13"
  }
 },
 "nbformat": 4,
 "nbformat_minor": 5
}
